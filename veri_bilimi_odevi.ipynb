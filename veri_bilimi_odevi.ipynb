{
  "cells": [
    {
      "cell_type": "code",
      "execution_count": null,
      "metadata": {},
      "outputs": [],
      "source": [
        
        "import numpy as np\n",
        "import pandas as pd\n",
        "import matplotlib.pyplot as plt\n",
        "import seaborn as sns\n",
        "from scipy import stats\n",
        "\n",
        "# Görselleştirme ayarları\n",
        "plt.style.use('seaborn-v0_8')\n",
        "sns.set_palette(\"husl\")\n",
        "plt.rcParams['figure.figsize'] = (10, 6)\n",
        "plt.rcParams['font.size'] = 12\n",
        "\n",
        "print(\"Kütüphaneler başarıyla yüklendi!\")\n"
      ]
    },
    {
      "cell_type": "markdown",
      "metadata": {},
      "source": [
        "# 1. Numpy Bölümü\n",
        "\n",
        "## 1.1 Numpy ile Matris İşlemleri\n"
      ]
    },
    {
      "cell_type": "code",
      "execution_count": null,
      "metadata": {},
      "outputs": [],
      "source": [
        "# 5x5 boyutunda rastgele matris oluşturma (0-100 arası tam sayılar)\n",
        "np.random.seed(42)  # Tekrarlanabilir sonuçlar için\n",
        "matrix = np.random.randint(0, 101, size=(5, 5))\n",
        "\n",
        "print(\"5x5 Rastgele Matris:\")\n",
        "print(matrix)\n",
        "print(f\"\\nMatris boyutu: {matrix.shape}\")\n",
        "print(f\"Matris tipi: {matrix.dtype}\")\n"
      ]
    },
    {
      "cell_type": "code",
      "execution_count": null,
      "metadata": {},
      "outputs": [],
      "source": [
        "# Matris istatistikleri\n",
        "print(\"=== MATRIS İSTATİSTİKLERİ ===\")\n",
        "print(f\"Ortalama: {np.mean(matrix):.2f}\")\n",
        "print(f\"Standart Sapma: {np.std(matrix):.2f}\")\n",
        "print(f\"Varyans: {np.var(matrix):.2f}\")\n",
        "print(f\"En büyük değer: {np.max(matrix)}\")\n",
        "print(f\"En küçük değer: {np.min(matrix)}\")\n",
        "\n",
        "# Köşegen elemanları ve toplamı\n",
        "diagonal = np.diag(matrix)\n",
        "print(f\"\\nKöşegen elemanları: {diagonal}\")\n",
        "print(f\"Köşegen elemanlarının toplamı: {np.sum(diagonal)}\")\n",
        "\n",
        "# Ek istatistikler\n",
        "print(f\"\\n=== EK İSTATİSTİKLER ===\")\n",
        "print(f\"Medyan: {np.median(matrix):.2f}\")\n",
        "print(f\"Çeyrekler arası aralık (IQR): {np.percentile(matrix, 75) - np.percentile(matrix, 25):.2f}\")\n",
        "print(f\"Toplam: {np.sum(matrix)}\")\n",
        "print(f\"Eleman sayısı: {matrix.size}\")\n"
      ]
    },
    {
      "cell_type": "markdown",
      "metadata": {},
      "source": [
        "## 1.2 Numpy ile Veri Simülasyonu\n"
      ]
    },
    {
      "cell_type": "code",
      "execution_count": null,
      "metadata": {},
      "outputs": [],
      "source": [
        "# 1000 öğrencinin sınav puanlarını simüle etme (normal dağılım)\n",
        "np.random.seed(123)  # Tekrarlanabilir sonuçlar için\n",
        "\n",
        "# Normal dağılımdan 1000 öğrenci puanı (ortalama=65, standart sapma=15)\n",
        "# 0-100 arasında sınırlandırılmış\n",
        "mean_score = 65\n",
        "std_score = 15\n",
        "n_students = 1000\n",
        "\n",
        "# Normal dağılımdan puanlar üret\n",
        "raw_scores = np.random.normal(mean_score, std_score, n_students)\n",
        "\n",
        "# 0-100 arasında sınırlandır\n",
        "exam_scores = np.clip(raw_scores, 0, 100)\n",
        "\n",
        "print(f\"1000 öğrencinin sınav puanları simüle edildi.\")\n",
        "print(f\"İlk 10 puan: {exam_scores[:10]}\")\n",
        "print(f\"Son 10 puan: {exam_scores[-10:]}\")\n"
      ]
    },
    {
      "cell_type": "code",
      "execution_count": null,
      "metadata": {},
      "outputs": [],
      "source": [
        "# Sınav puanları istatistikleri\n",
        "print(\"=== SINAV PUANLARI İSTATİSTİKLERİ ===\")\n",
        "print(f\"Ortalama: {np.mean(exam_scores):.2f}\")\n",
        "print(f\"Medyan: {np.median(exam_scores):.2f}\")\n",
        "print(f\"Standart Sapma: {np.std(exam_scores):.2f}\")\n",
        "print(f\"En yüksek puan: {np.max(exam_scores):.2f}\")\n",
        "print(f\"En düşük puan: {np.min(exam_scores):.2f}\")\n",
        "\n",
        "# 50'den düşük alan öğrenci sayısı\n",
        "below_50 = np.sum(exam_scores < 50)\n",
        "print(f\"\\n50'den düşük alan öğrenci sayısı: {below_50}\")\n",
        "print(f\"50'den düşük alan öğrenci yüzdesi: {(below_50/n_students)*100:.2f}%\")\n",
        "\n",
        "# Başarı kategorileri\n",
        "excellent = np.sum(exam_scores >= 90)\n",
        "good = np.sum((exam_scores >= 80) & (exam_scores < 90))\n",
        "average = np.sum((exam_scores >= 70) & (exam_scores < 80))\n",
        "passing = np.sum((exam_scores >= 50) & (exam_scores < 70))\n",
        "failing = np.sum(exam_scores < 50)\n",
        "\n",
        "print(f\"\\n=== BAŞARI KATEGORİLERİ ===\")\n",
        "print(f\"Mükemmel (90+): {excellent} öğrenci ({(excellent/n_students)*100:.1f}%)\")\n",
        "print(f\"İyi (80-89): {good} öğrenci ({(good/n_students)*100:.1f}%)\")\n",
        "print(f\"Orta (70-79): {average} öğrenci ({(average/n_students)*100:.1f}%)\")\n",
        "print(f\"Geçer (50-69): {passing} öğrenci ({(passing/n_students)*100:.1f}%)\")\n",
        "print(f\"Kaldı (0-49): {failing} öğrenci ({(failing/n_students)*100:.1f}%)\")\n"
      ]
    },
    {
      "cell_type": "markdown",
      "metadata": {},
      "source": [
        "# 2. Pandas Bölümü\n",
        "\n",
        "## 2.1 Veri Seti Oluşturma\n"
      ]
    },
    {
      "cell_type": "code",
      "execution_count": null,
      "metadata": {},
      "outputs": [],
      "source": [
        "# Öğrenci verilerini içeren DataFrame oluşturma\n",
        "data = {\n",
        "    'Öğrenci': ['Ali', 'Ayşe', 'Mehmet', 'Zeynep', 'Ahmet'],\n",
        "    'Yaş': [20, 21, 19, 22, 20],\n",
        "    'Bölüm': ['Bilgisayar', 'Fizik', 'Kimya', 'Bilgisayar', 'Fizik'],\n",
        "    'Matematik': [70, 60, 80, 90, 55],\n",
        "    'Fizik': [65, 75, 70, 85, 60],\n",
        "    'Kimya': [80, 85, 65, 95, 70]\n",
        "}\n",
        "\n",
        "# DataFrame oluşturma\n",
        "df = pd.DataFrame(data)\n",
        "\n",
        "print(\"Öğrenci Veri Seti:\")\n",
        "print(df)\n",
        "print(f\"\\nDataFrame boyutu: {df.shape}\")\n",
        "print(f\"DataFrame bilgileri:\")\n",
        "df.info()\n"
      ]
    },
    {
      "cell_type": "markdown",
      "metadata": {},
      "source": [
        "## 2.2 Veri Analizi\n"
      ]
    },
    {
      "cell_type": "code",
      "execution_count": null,
      "metadata": {},
      "outputs": [],
      "source": [
        "# Her ders için ortalama puanı bulma\n",
        "dersler = ['Matematik', 'Fizik', 'Kimya']\n",
        "print(\"=== DERS ORTALAMALARI ===\")\n",
        "for ders in dersler:\n",
        "    ortalama = df[ders].mean()\n",
        "    print(f\"{ders} ortalama: {ortalama:.2f}\")\n",
        "\n",
        "print(f\"\\nGenel ortalama: {df[dersler].mean().mean():.2f}\")\n"
      ]
    },
    {
      "cell_type": "code",
      "execution_count": null,
      "metadata": {},
      "outputs": [],
      "source": [
        "# En yüksek matematik notunu alan öğrenciyi bulma\n",
        "max_math_score = df['Matematik'].max()\n",
        "best_math_student = df[df['Matematik'] == max_math_score]['Öğrenci'].iloc[0]\n",
        "\n",
        "print(f\"=== EN YÜKSEK MATEMATİK NOTU ===\")\n",
        "print(f\"En yüksek matematik notu: {max_math_score}\")\n",
        "print(f\"Bu notu alan öğrenci: {best_math_student}\")\n",
        "\n",
        "# En yüksek notları alan öğrenciler (tüm dersler için)\n",
        "print(f\"\\n=== EN YÜKSEK NOTLAR ===\")\n",
        "for ders in dersler:\n",
        "    max_score = df[ders].max()\n",
        "    best_student = df[df[ders] == max_score]['Öğrenci'].iloc[0]\n",
        "    print(f\"{ders}: {max_score} - {best_student}\")\n"
      ]
    },
    {
      "cell_type": "code",
      "execution_count": null,
      "metadata": {},
      "outputs": [],
      "source": [
        "# Her öğrencinin not ortalamasını hesaplayan yeni sütun ekleme\n",
        "df['Not Ortalaması'] = df[dersler].mean(axis=1)\n",
        "\n",
        "print(\"=== NOT ORTALAMALARI EKLENDİ ===\")\n",
        "print(df[['Öğrenci', 'Not Ortalaması']].round(2))\n",
        "\n",
        "# Ortalamaya göre sıralama\n",
        "df_sorted = df.sort_values('Not Ortalaması', ascending=False)\n",
        "print(f\"\\n=== ORTALAMAYA GÖRE SIRALAMA ===\")\n",
        "print(df_sorted[['Öğrenci', 'Not Ortalaması']].round(2))\n"
      ]
    },
    {
      "cell_type": "code",
      "execution_count": null,
      "metadata": {},
      "outputs": [],
      "source": [
        "# Bölümlere göre gruplayarak her bölümün ortalama başarılarını hesaplama\n",
        "print(\"=== BÖLÜMLERE GÖRE ORTALAMA BAŞARILAR ===\")\n",
        "bolum_ortalama = df.groupby('Bölüm')[dersler + ['Not Ortalaması']].mean().round(2)\n",
        "print(bolum_ortalama)\n",
        "\n",
        "# Bölüm başına öğrenci sayısı\n",
        "print(f\"\\n=== BÖLÜM BAŞINA ÖĞRENCİ SAYISI ===\")\n",
        "bolum_sayisi = df['Bölüm'].value_counts()\n",
        "print(bolum_sayisi)\n"
      ]
    },
    {
      "cell_type": "code",
      "execution_count": null,
      "metadata": {},
      "outputs": [],
      "source": [
        "# Ortalaması 70'in üzerinde olan öğrencileri filtreleme\n",
        "print(\"=== ORTALAMASI 70'İN ÜZERİNDE OLAN ÖĞRENCİLER ===\")\n",
        "yuksek_ortalama = df[df['Not Ortalaması'] > 70]\n",
        "print(yuksek_ortalama[['Öğrenci', 'Bölüm', 'Not Ortalaması']].round(2))\n",
        "\n",
        "# Filtreleme istatistikleri\n",
        "print(f\"\\nToplam öğrenci sayısı: {len(df)}\")\n",
        "print(f\"70'in üzerinde ortalama olan öğrenci sayısı: {len(yuksek_ortalama)}\")\n",
        "print(f\"Yüzde: {(len(yuksek_ortalama)/len(df))*100:.1f}%\")\n",
        "\n",
        "# Diğer filtreleme örnekleri\n",
        "print(f\"\\n=== DİĞER FİLTRELEME ÖRNEKLERİ ===\")\n",
        "print(\"Matematik notu 80'in üzerinde olanlar:\")\n",
        "math_80_plus = df[df['Matematik'] > 80]\n",
        "print(math_80_plus[['Öğrenci', 'Matematik']])\n",
        "\n",
        "print(f\"\\nBilgisayar bölümündeki öğrenciler:\")\n",
        "bilgisayar = df[df['Bölüm'] == 'Bilgisayar']\n",
        "print(bilgisayar[['Öğrenci', 'Not Ortalaması']].round(2))\n"
      ]
    },
    {
      "cell_type": "markdown",
      "metadata": {},
      "source": [
        "# 3. Görselleştirme\n",
        "\n",
        "## 3.1 Histogram ile Ders Dağılımları\n"
      ]
    },
    {
      "cell_type": "code",
      "execution_count": null,
      "metadata": {},
      "outputs": [],
      "source": [
        "# Her dersin dağılımını histogram ile gösterme\n",
        "fig, axes = plt.subplots(1, 3, figsize=(15, 5))\n",
        "fig.suptitle('Ders Notlarının Dağılımı', fontsize=16, fontweight='bold')\n",
        "\n",
        "colors = ['skyblue', 'lightcoral', 'lightgreen']\n",
        "dersler = ['Matematik', 'Fizik', 'Kimya']\n",
        "\n",
        "for i, ders in enumerate(dersler):\n",
        "    axes[i].hist(df[ders], bins=5, alpha=0.7, color=colors[i], edgecolor='black')\n",
        "    axes[i].set_title(f'{ders} Notları', fontweight='bold')\n",
        "    axes[i].set_xlabel('Not')\n",
        "    axes[i].set_ylabel('Öğrenci Sayısı')\n",
        "    axes[i].grid(True, alpha=0.3)\n",
        "    \n",
        "    # Ortalama çizgisi ekleme\n",
        "    ortalama = df[ders].mean()\n",
        "    axes[i].axvline(ortalama, color='red', linestyle='--', linewidth=2, \n",
        "                   label=f'Ortalama: {ortalama:.1f}')\n",
        "    axes[i].legend()\n",
        "\n",
        "plt.tight_layout()\n",
        "plt.show()\n",
        "\n",
        "# İstatistiksel özet\n",
        "print(\"=== DERS NOTLARI İSTATİSTİK ÖZETİ ===\")\n",
        "for ders in dersler:\n",
        "    print(f\"\\n{ders}:\")\n",
        "    print(f\"  Ortalama: {df[ders].mean():.2f}\")\n",
        "    print(f\"  Standart Sapma: {df[ders].std():.2f}\")\n",
        "    print(f\"  Min: {df[ders].min()}\")\n",
        "    print(f\"  Max: {df[ders].max()}\")\n"
      ]
    },
    {
      "cell_type": "markdown",
      "metadata": {},
      "source": [
        "## 3.2 Bölümlere Göre Ortalamalar - Bar Grafik\n"
      ]
    },
    {
      "cell_type": "code",
      "execution_count": null,
      "metadata": {},
      "outputs": [],
      "source": [
        "# Bölümlere göre ortalamaları bar grafikte görselleştirme\n",
        "fig, axes = plt.subplots(2, 2, figsize=(15, 10))\n",
        "fig.suptitle('Bölümlere Göre Başarı Analizi', fontsize=16, fontweight='bold')\n",
        "\n",
        "# 1. Bölümlere göre ders ortalamaları\n",
        "bolum_ders_ortalama = df.groupby('Bölüm')[dersler].mean()\n",
        "bolum_ders_ortalama.plot(kind='bar', ax=axes[0,0], color=['skyblue', 'lightcoral', 'lightgreen'])\n",
        "axes[0,0].set_title('Bölümlere Göre Ders Ortalamaları', fontweight='bold')\n",
        "axes[0,0].set_xlabel('Bölüm')\n",
        "axes[0,0].set_ylabel('Ortalama Not')\n",
        "axes[0,0].legend(title='Dersler')\n",
        "axes[0,0].tick_params(axis='x', rotation=45)\n",
        "\n",
        "# 2. Bölümlere göre genel ortalama\n",
        "bolum_genel_ortalama = df.groupby('Bölüm')['Not Ortalaması'].mean()\n",
        "bolum_genel_ortalama.plot(kind='bar', ax=axes[0,1], color='gold', alpha=0.8)\n",
        "axes[0,1].set_title('Bölümlere Göre Genel Ortalama', fontweight='bold')\n",
        "axes[0,1].set_xlabel('Bölüm')\n",
        "axes[0,1].set_ylabel('Genel Ortalama')\n",
        "axes[0,1].tick_params(axis='x', rotation=45)\n",
        "\n",
        "# 3. Öğrenci başına not ortalaması\n",
        "df.plot(x='Öğrenci', y='Not Ortalaması', kind='bar', ax=axes[1,0], color='purple', alpha=0.7)\n",
        "axes[1,0].set_title('Öğrenci Başına Not Ortalaması', fontweight='bold')\n",
        "axes[1,0].set_xlabel('Öğrenci')\n",
        "axes[1,0].set_ylabel('Not Ortalaması')\n",
        "axes[1,0].tick_params(axis='x', rotation=45)\n",
        "\n",
        "# 4. Bölüm başına öğrenci sayısı\n",
        "bolum_sayisi = df['Bölüm'].value_counts()\n",
        "bolum_sayisi.plot(kind='pie', ax=axes[1,1], autopct='%1.1f%%', startangle=90)\n",
        "axes[1,1].set_title('Bölüm Başına Öğrenci Dağılımı', fontweight='bold')\n",
        "axes[1,1].set_ylabel('')\n",
        "\n",
        "plt.tight_layout()\n",
        "plt.show()\n",
        "\n",
        "# Detaylı analiz\n",
        "print(\"=== BÖLÜM BAŞARI ANALİZİ ===\")\n",
        "for bolum in df['Bölüm'].unique():\n",
        "    bolum_df = df[df['Bölüm'] == bolum]\n",
        "    print(f\"\\n{bolum} Bölümü:\")\n",
        "    print(f\"  Öğrenci sayısı: {len(bolum_df)}\")\n",
        "    print(f\"  Genel ortalama: {bolum_df['Not Ortalaması'].mean():.2f}\")\n",
        "    print(f\"  En yüksek ortalama: {bolum_df['Not Ortalaması'].max():.2f}\")\n",
        "    print(f\"  En düşük ortalama: {bolum_df['Not Ortalaması'].min():.2f}\")\n"
      ]
    },
    {
      "cell_type": "markdown",
      "metadata": {},
      "source": [
        "## 3.3 Ek Görselleştirmeler\n"
      ]
    },
    {
      "cell_type": "code",
      "execution_count": null,
      "metadata": {},
      "outputs": [],
      "source": [
        "# Seaborn ile gelişmiş görselleştirmeler\n",
        "plt.figure(figsize=(15, 5))\n",
        "\n",
        "# 1. Box plot - Ders notlarının dağılımı\n",
        "plt.subplot(1, 3, 1)\n",
        "df_melted = df.melt(id_vars=['Öğrenci', 'Bölüm'], \n",
        "                   value_vars=dersler, \n",
        "                   var_name='Ders', \n",
        "                   value_name='Not')\n",
        "sns.boxplot(data=df_melted, x='Ders', y='Not', palette='Set2')\n",
        "plt.title('Ders Notlarının Box Plot Analizi', fontweight='bold')\n",
        "plt.xticks(rotation=45)\n",
        "\n",
        "# 2. Heatmap - Korelasyon matrisi\n",
        "plt.subplot(1, 3, 2)\n",
        "correlation_matrix = df[dersler].corr()\n",
        "sns.heatmap(correlation_matrix, annot=True, cmap='coolwarm', center=0,\n",
        "            square=True, linewidths=0.5)\n",
        "plt.title('Ders Notları Korelasyon Matrisi', fontweight='bold')\n",
        "\n",
        "# 3. Scatter plot - Matematik vs Fizik\n",
        "plt.subplot(1, 3, 3)\n",
        "colors = {'Bilgisayar': 'blue', 'Fizik': 'red', 'Kimya': 'green'}\n",
        "for bolum in df['Bölüm'].unique():\n",
        "    bolum_data = df[df['Bölüm'] == bolum]\n",
        "    plt.scatter(bolum_data['Matematik'], bolum_data['Fizik'], \n",
        "               label=bolum, color=colors[bolum], s=100, alpha=0.7)\n",
        "plt.xlabel('Matematik Notu')\n",
        "plt.ylabel('Fizik Notu')\n",
        "plt.title('Matematik vs Fizik Notları', fontweight='bold')\n",
        "plt.legend()\n",
        "plt.grid(True, alpha=0.3)\n",
        "\n",
        "plt.tight_layout()\n",
        "plt.show()\n",
        "\n",
        "# Korelasyon analizi\n",
        "print(\"=== DERS NOTLARI KORELASYON ANALİZİ ===\")\n",
        "print(correlation_matrix.round(3))\n"
      ]
    }
  ],
  "metadata": {
    "language_info": {
      "name": "python"
    }
  },
  "nbformat": 4,
  "nbformat_minor": 2
}
